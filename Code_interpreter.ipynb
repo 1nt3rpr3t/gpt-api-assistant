{
 "cells": [
  {
   "cell_type": "code",
   "execution_count": null,
   "metadata": {},
   "outputs": [],
   "source": [
    "from openai import OpenAI\n",
    "\n",
    "client = OpenAI(api_key='YOUR_API_KEY')\n",
    "\n",
    "assistant_id= ''\n",
    "thread_id   = ''"
   ]
  },
  {
   "cell_type": "markdown",
   "metadata": {},
   "source": [
    "스레드 생성"
   ]
  },
  {
   "cell_type": "code",
   "execution_count": null,
   "metadata": {},
   "outputs": [],
   "source": [
    "thread = client.beta.threads.create()\n",
    "print(thread.id)\n",
    "thread_id=thread.id"
   ]
  },
  {
   "cell_type": "markdown",
   "metadata": {},
   "source": [
    "어시스턴트 생성"
   ]
  },
  {
   "cell_type": "code",
   "execution_count": null,
   "metadata": {},
   "outputs": [],
   "source": [
    "assistant = client.beta.assistants.create(\n",
    "   instructions=\"당신은 수학 과외 선생님입니다 질문에 간단히, 문장이나 그 이하로 대답하세요\", # 지시사항\n",
    "   name=\"math Tutor\", # 어시스턴트 이름\n",
    "   model=\"gpt-4-turbo-preview\", # 사용모델\n",
    ")\n",
    "print(assistant.id)\n",
    "assistant_id=assistant.id"
   ]
  },
  {
   "cell_type": "markdown",
   "metadata": {},
   "source": [
    "스레드에 메세지 생성"
   ]
  },
  {
   "cell_type": "code",
   "execution_count": null,
   "metadata": {},
   "outputs": [],
   "source": [
    "message = client.beta.threads.messages.create(\n",
    "   thread_id = thread_id,\n",
    "   role=\"user\",\n",
    "   content=\"다음의 방정식을 풀고 싶습니다. '3x + 11 = 14'. 수학선생님 도와주실 수 있나요?\"\n",
    ")\n",
    "print(message)"
   ]
  },
  {
   "cell_type": "markdown",
   "metadata": {},
   "source": [
    "스레드와 어시스턴트 실행 > 안에 생성된 메세지로 질문"
   ]
  },
  {
   "cell_type": "code",
   "execution_count": null,
   "metadata": {},
   "outputs": [],
   "source": [
    "run = client.beta.threads.runs.create_and_poll(\n",
    "   thread_id=thread_id,\n",
    "   assistant_id=assistant_id,\n",
    ")"
   ]
  },
  {
   "cell_type": "markdown",
   "metadata": {},
   "source": [
    "그에 대한 결과값 출력"
   ]
  },
  {
   "cell_type": "code",
   "execution_count": null,
   "metadata": {},
   "outputs": [],
   "source": [
    "messages = client.beta.threads.messages.list(\n",
    "   thread_id=thread_id\n",
    ")\n",
    "print(messages)"
   ]
  }
 ],
 "metadata": {
  "kernelspec": {
   "display_name": "Python 3",
   "language": "python",
   "name": "python3"
  },
  "language_info": {
   "codemirror_mode": {
    "name": "ipython",
    "version": 3
   },
   "file_extension": ".py",
   "mimetype": "text/x-python",
   "name": "python",
   "nbconvert_exporter": "python",
   "pygments_lexer": "ipython3",
   "version": "3.12.4"
  }
 },
 "nbformat": 4,
 "nbformat_minor": 2
}
