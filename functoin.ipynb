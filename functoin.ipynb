{
 "cells": [
  {
   "cell_type": "code",
   "execution_count": null,
   "metadata": {},
   "outputs": [],
   "source": [
    "from openai import OpenAI\n",
    "\n",
    "client = OpenAI(api_key='YOUR_API_KEY')\n",
    "\n",
    "thread_id   = ''\n",
    "assistant_id= ''"
   ]
  },
  {
   "cell_type": "markdown",
   "metadata": {},
   "source": [
    "스레드 생성"
   ]
  },
  {
   "cell_type": "code",
   "execution_count": null,
   "metadata": {},
   "outputs": [],
   "source": [
    "# thread = client.beta.threads.create()\n",
    "# print(thread.id)\n",
    "# thread_id=thread.id"
   ]
  },
  {
   "cell_type": "markdown",
   "metadata": {},
   "source": [
    "펑션 툴 생성"
   ]
  },
  {
   "cell_type": "code",
   "execution_count": null,
   "metadata": {},
   "outputs": [],
   "source": [
    "tools = [\n",
    "   {\n",
    "      \"type\": \"function\",\n",
    "      \"function\": {\n",
    "            \"name\": \"get_static_weather\",\n",
    "            \"description\": \"Get the current weather in a given location\",\n",
    "            \"parameters\": {\n",
    "               \"type\": \"object\",\n",
    "               \"properties\": {\n",
    "                  \"location\": {\n",
    "                        \"type\": \"string\",\n",
    "                        \"description\": \"The city and state, e.g. San Francisco, CA\",\n",
    "                  },\n",
    "               },\n",
    "               \"required\": [\"location\"],\n",
    "            },\n",
    "      },\n",
    "   }\n",
    "]"
   ]
  },
  {
   "cell_type": "markdown",
   "metadata": {},
   "source": [
    "어시스턴트 생성 (만든 툴 삽입)"
   ]
  },
  {
   "cell_type": "code",
   "execution_count": null,
   "metadata": {},
   "outputs": [],
   "source": [
    "assistant = client.beta.assistants.create(\n",
    "   instructions = \"어시스턴트의 함수를 활용해 날씨를 알려주는 봇\", # 지시사항\n",
    "   name=\"Weather Bot\", # 어시스턴트 이름\n",
    "   tools=tools, # 사용할 툴\n",
    "   model=\"gpt-3.5-turbo\" # 사용모델\n",
    ")\n",
    "print(assistant.id)\n",
    "assistant_id=assistant.id"
   ]
  },
  {
   "cell_type": "markdown",
   "metadata": {},
   "source": [
    "스레드에 메세지 생성"
   ]
  },
  {
   "cell_type": "code",
   "execution_count": null,
   "metadata": {},
   "outputs": [],
   "source": [
    "message = client.beta.threads.messages.create(\n",
    "   thread_id = thread_id,\n",
    "   role=\"user\",\n",
    "   content=\"USA 날씨 알려줘\"\n",
    ")\n",
    "print(message)"
   ]
  },
  {
   "cell_type": "markdown",
   "metadata": {},
   "source": [
    "스레드와 어시스턴트 실행 > 안에 생성된 메세지로 질문"
   ]
  },
  {
   "cell_type": "code",
   "execution_count": null,
   "metadata": {},
   "outputs": [],
   "source": [
    "run = client.beta.threads.runs.create_and_poll(\n",
    "   thread_id=thread_id,\n",
    "   assistant_id=assistant_id,\n",
    ")\n",
    "print(run)"
   ]
  },
  {
   "cell_type": "markdown",
   "metadata": {},
   "source": [
    "openweathermap를 사용해 날씨 가져오기"
   ]
  },
  {
   "cell_type": "code",
   "execution_count": null,
   "metadata": {},
   "outputs": [],
   "source": [
    "import requests\n",
    "import json\n",
    "\n",
    "city = \"Seoul\"\n",
    "apiKey = \"95851ef5649594b65d0e69cbc41600c4\"\n",
    "lang = 'kr'\n",
    "units = 'metric'\n",
    "api = f\"https://api.openweathermap.org/data/2.5/weather?q={city}&APPID={apiKey}&lang={lang}&units={units}\"\n",
    "\n",
    "result = requests.get(api)\n",
    "result = json.loads(result.text)\n",
    "\n",
    "temperature = result['main']['temp']"
   ]
  },
  {
   "cell_type": "markdown",
   "metadata": {},
   "source": [
    "required_action으로 만든 펑션 사용"
   ]
  },
  {
   "cell_type": "code",
   "execution_count": null,
   "metadata": {},
   "outputs": [],
   "source": [
    "tool_outputs = []\n",
    "\n",
    "for tool in run.required_action.submit_tool_outputs.tool_calls:\n",
    "   if tool.function.name == \"get_static_weather\":\n",
    "      tool_outputs.append({\n",
    "         \"tool_call_id\": tool.id,\n",
    "         \"output\": str(temperature),\n",
    "         # \"output\": \"57\",\n",
    "      })"
   ]
  },
  {
   "cell_type": "markdown",
   "metadata": {},
   "source": [
    "잘 사용됐는지 확인 required_action이 뜨면 잘 된거"
   ]
  },
  {
   "cell_type": "code",
   "execution_count": null,
   "metadata": {},
   "outputs": [],
   "source": [
    "if run.status == 'completed':\n",
    "   messages = client.beta.threads.messages.list(\n",
    "      thread_id=thread_id\n",
    "   )\n",
    "   print(messages)\n",
    "else:\n",
    "   print(run.status)"
   ]
  },
  {
   "cell_type": "markdown",
   "metadata": {},
   "source": [
    "스레드와 어시스턴트, 가져온 API데이터를 모두 포함하여 실행"
   ]
  },
  {
   "cell_type": "code",
   "execution_count": null,
   "metadata": {},
   "outputs": [],
   "source": [
    "if tool_outputs:\n",
    "   try:\n",
    "      run = client.beta.threads.runs.submit_tool_outputs_and_poll(\n",
    "         thread_id=thread_id,\n",
    "         run_id=run.id,\n",
    "         tool_outputs=tool_outputs\n",
    "      )\n",
    "      print(\"Tool outputs submitted successfully.\")\n",
    "   except Exception as e:\n",
    "      print(\"Failed to submit tool outputs:\", e)\n",
    "else:\n",
    "   print(\"No tool outputs to submit.\")\n"
   ]
  },
  {
   "cell_type": "markdown",
   "metadata": {},
   "source": [
    "그에 대한 결과값 출력"
   ]
  },
  {
   "cell_type": "code",
   "execution_count": null,
   "metadata": {},
   "outputs": [],
   "source": [
    "if run.status == 'completed':\n",
    "   messages = client.beta.threads.messages.list(\n",
    "      thread_id=thread_id\n",
    "   )\n",
    "   print(messages)\n",
    "else:\n",
    "   print(run.status)"
   ]
  }
 ],
 "metadata": {
  "kernelspec": {
   "display_name": "Python 3",
   "language": "python",
   "name": "python3"
  },
  "language_info": {
   "codemirror_mode": {
    "name": "ipython",
    "version": 3
   },
   "file_extension": ".py",
   "mimetype": "text/x-python",
   "name": "python",
   "nbconvert_exporter": "python",
   "pygments_lexer": "ipython3",
   "version": "3.12.4"
  }
 },
 "nbformat": 4,
 "nbformat_minor": 2
}
