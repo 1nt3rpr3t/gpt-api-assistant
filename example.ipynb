{
 "cells": [
  {
   "cell_type": "markdown",
   "metadata": {},
   "source": [
    "어시스턴트 업데이트 예제"
   ]
  },
  {
   "cell_type": "code",
   "execution_count": null,
   "metadata": {},
   "outputs": [],
   "source": [
    "from openai import OpenAI\n",
    "\n",
    "client = OpenAI(api_key='YOUR_API_KEY')\n",
    "\n",
    "thread_id    = ''\n",
    "assistant_id = ''"
   ]
  },
  {
   "cell_type": "markdown",
   "metadata": {},
   "source": [
    "수학강사 어시스턴트 생성"
   ]
  },
  {
   "cell_type": "code",
   "execution_count": null,
   "metadata": {},
   "outputs": [],
   "source": [
    "# assistant = client.beta.assistants.create(\n",
    "#    name=\"math Tutor\",\n",
    "#    instructions=\"You are a personal math tutor. Answer question briefly, in a setence or less.\",\n",
    "#    model=\"gpt-4-turbo-preview\",\n",
    "# )\n",
    "# print(assistant.id)\n",
    "# assistant_id=assistant.id"
   ]
  },
  {
   "cell_type": "markdown",
   "metadata": {},
   "source": [
    "assistant_id에 해당하는 어시트턴트 업데이트 <br>\n",
    "현재는 수학강사 아이디니 수학강사 + 파일서칭"
   ]
  },
  {
   "cell_type": "code",
   "execution_count": null,
   "metadata": {},
   "outputs": [],
   "source": [
    "# assistant = client.beta.assistants.update(\n",
    "#    assistant_id,\n",
    "#    instructions = \"파일 특성에 맞는 지시사항\",\n",
    "#    name=\"HR Helper\",\n",
    "#    tools=[{\"type\": \"file_search\"}],\n",
    "#    tool_resources={\"file_search\": {\"vector_store_ids\": [vector_id]}},\n",
    "#    model=\"gpt-4-turbo\"\n",
    "# )\n",
    "# print(assistant.id)\n"
   ]
  },
  {
   "cell_type": "markdown",
   "metadata": {},
   "source": [
    "assistant_id에 해당하는 어시트턴트 업데이트 <br>\n",
    "현재는 수학강사 아이디니 수학강사 + 파일서칭 + 날씨검색"
   ]
  },
  {
   "cell_type": "code",
   "execution_count": null,
   "metadata": {},
   "outputs": [],
   "source": [
    "# assistant = client.beta.assistants.update(\n",
    "#    assistant_id,\n",
    "#    instructions = \"어시스턴트의 함수를 활용해 날씨를 알려주는 봇\",\n",
    "#    name=\"Weather Bot\",\n",
    "#    tools=tools,\n",
    "#    model=\"gpt-3.5-turbo\"\n",
    "# )\n",
    "# print(assistant.id)"
   ]
  }
 ],
 "metadata": {
  "language_info": {
   "name": "python"
  }
 },
 "nbformat": 4,
 "nbformat_minor": 2
}
