{
 "cells": [
  {
   "cell_type": "code",
   "execution_count": null,
   "metadata": {},
   "outputs": [],
   "source": [
    "from openai import OpenAI\n",
    "\n",
    "client = OpenAI(api_key='YOUR_API_KEY')\n",
    "\n",
    "assistant_id= ''\n",
    "thread_id   = ''\n",
    "file_id     = ''\n",
    "vector_id   = ''"
   ]
  },
  {
   "cell_type": "markdown",
   "metadata": {},
   "source": [
    "스레드 생성"
   ]
  },
  {
   "cell_type": "code",
   "execution_count": null,
   "metadata": {},
   "outputs": [],
   "source": [
    "thread = client.beta.threads.create()\n",
    "print(thread.id)\n",
    "thread_id=thread.id"
   ]
  },
  {
   "cell_type": "markdown",
   "metadata": {},
   "source": [
    "파일 가져오기"
   ]
  },
  {
   "cell_type": "code",
   "execution_count": null,
   "metadata": {},
   "outputs": [],
   "source": [
    "file = client.files.create(\n",
    "   file=open(\"example.pdf\", \"rb\"),\n",
    "   purpose=\"assistants\"\n",
    ")\n",
    "print(file.id)\n",
    "file_id=file.id"
   ]
  },
  {
   "cell_type": "markdown",
   "metadata": {},
   "source": [
    "저장소 만들기"
   ]
  },
  {
   "cell_type": "code",
   "execution_count": null,
   "metadata": {},
   "outputs": [],
   "source": [
    "vector_store = client.beta.vector_stores.create(\n",
    "   name = \"File search\"\n",
    ")\n",
    "print(vector_store.id)\n",
    "vector_id=vector_store.id"
   ]
  },
  {
   "cell_type": "markdown",
   "metadata": {},
   "source": [
    "어시스턴트 생성"
   ]
  },
  {
   "cell_type": "code",
   "execution_count": null,
   "metadata": {},
   "outputs": [],
   "source": [
    "assistant = client.beta.assistants.create(\n",
    "   instructions = \"파일 특성에 맞는 지시사항\", # 지시사항\n",
    "   name=\"HR Helper\", # 어시스턴트 이름\n",
    "   tools=[{\"type\": \"file_search\"}], # 사용할 툴\n",
    "   tool_resources={\"file_search\": {\"vector_store_ids\": [vector_id]}}, # 파일서치라서 저장소도 같이\n",
    "   model=\"gpt-4-turbo\" # 사용모델\n",
    ")\n",
    "print(assistant.id)\n",
    "assistant_id=assistant.id"
   ]
  },
  {
   "cell_type": "markdown",
   "metadata": {},
   "source": [
    "저장소와 파일 연결"
   ]
  },
  {
   "cell_type": "code",
   "execution_count": null,
   "metadata": {},
   "outputs": [],
   "source": [
    "vector_store_file =client.beta.vector_stores.files.create(\n",
    "   file_id=file_id,\n",
    "   vector_store_id=vector_id,\n",
    ")\n",
    "print(vector_store_file.id)"
   ]
  },
  {
   "cell_type": "markdown",
   "metadata": {},
   "source": [
    "후에 어시스턴트 아이디를 사용해 파일 내에 있는 내용을 질문하면 그 파일을 읽고 찾아 적절한 답 출력"
   ]
  }
 ],
 "metadata": {
  "kernelspec": {
   "display_name": "Python 3",
   "language": "python",
   "name": "python3"
  },
  "language_info": {
   "codemirror_mode": {
    "name": "ipython",
    "version": 3
   },
   "file_extension": ".py",
   "mimetype": "text/x-python",
   "name": "python",
   "nbconvert_exporter": "python",
   "pygments_lexer": "ipython3",
   "version": "3.12.4"
  }
 },
 "nbformat": 4,
 "nbformat_minor": 2
}
